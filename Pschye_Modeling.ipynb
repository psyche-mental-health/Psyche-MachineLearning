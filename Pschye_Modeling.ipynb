{
  "nbformat": 4,
  "nbformat_minor": 0,
  "metadata": {
    "colab": {
      "provenance": []
    },
    "kernelspec": {
      "name": "python3",
      "display_name": "Python 3"
    },
    "language_info": {
      "name": "python"
    }
  },
  "cells": [
    {
      "cell_type": "code",
      "execution_count": 27,
      "metadata": {
        "id": "wWc93NB2xKqA",
        "colab": {
          "base_uri": "https://localhost:8080/"
        },
        "outputId": "9c5153c9-fb92-491b-b2e9-e90550fa6f5b"
      },
      "outputs": [
        {
          "output_type": "stream",
          "name": "stdout",
          "text": [
            "Requirement already satisfied: scikeras in /usr/local/lib/python3.10/dist-packages (0.13.0)\n",
            "Requirement already satisfied: keras>=3.2.0 in /usr/local/lib/python3.10/dist-packages (from scikeras) (3.5.0)\n",
            "Requirement already satisfied: scikit-learn>=1.4.2 in /usr/local/lib/python3.10/dist-packages (from scikeras) (1.5.2)\n",
            "Requirement already satisfied: absl-py in /usr/local/lib/python3.10/dist-packages (from keras>=3.2.0->scikeras) (1.4.0)\n",
            "Requirement already satisfied: numpy in /usr/local/lib/python3.10/dist-packages (from keras>=3.2.0->scikeras) (1.26.4)\n",
            "Requirement already satisfied: rich in /usr/local/lib/python3.10/dist-packages (from keras>=3.2.0->scikeras) (13.9.4)\n",
            "Requirement already satisfied: namex in /usr/local/lib/python3.10/dist-packages (from keras>=3.2.0->scikeras) (0.0.8)\n",
            "Requirement already satisfied: h5py in /usr/local/lib/python3.10/dist-packages (from keras>=3.2.0->scikeras) (3.12.1)\n",
            "Requirement already satisfied: optree in /usr/local/lib/python3.10/dist-packages (from keras>=3.2.0->scikeras) (0.13.1)\n",
            "Requirement already satisfied: ml-dtypes in /usr/local/lib/python3.10/dist-packages (from keras>=3.2.0->scikeras) (0.4.1)\n",
            "Requirement already satisfied: packaging in /usr/local/lib/python3.10/dist-packages (from keras>=3.2.0->scikeras) (24.2)\n",
            "Requirement already satisfied: scipy>=1.6.0 in /usr/local/lib/python3.10/dist-packages (from scikit-learn>=1.4.2->scikeras) (1.13.1)\n",
            "Requirement already satisfied: joblib>=1.2.0 in /usr/local/lib/python3.10/dist-packages (from scikit-learn>=1.4.2->scikeras) (1.4.2)\n",
            "Requirement already satisfied: threadpoolctl>=3.1.0 in /usr/local/lib/python3.10/dist-packages (from scikit-learn>=1.4.2->scikeras) (3.5.0)\n",
            "Requirement already satisfied: typing-extensions>=4.5.0 in /usr/local/lib/python3.10/dist-packages (from optree->keras>=3.2.0->scikeras) (4.12.2)\n",
            "Requirement already satisfied: markdown-it-py>=2.2.0 in /usr/local/lib/python3.10/dist-packages (from rich->keras>=3.2.0->scikeras) (3.0.0)\n",
            "Requirement already satisfied: pygments<3.0.0,>=2.13.0 in /usr/local/lib/python3.10/dist-packages (from rich->keras>=3.2.0->scikeras) (2.18.0)\n",
            "Requirement already satisfied: mdurl~=0.1 in /usr/local/lib/python3.10/dist-packages (from markdown-it-py>=2.2.0->rich->keras>=3.2.0->scikeras) (0.1.2)\n"
          ]
        }
      ],
      "source": [
        "import pandas as pd\n",
        "import http\n",
        "import numpy as np\n",
        "import matplotlib.pyplot as plt\n",
        "import seaborn as sns\n",
        "import plotly.express as px\n",
        "\n",
        "from sklearn import preprocessing\n",
        "from sklearn.preprocessing import MinMaxScaler, LabelEncoder\n",
        "\n",
        "import tensorflow as tf\n",
        "from sklearn.model_selection import train_test_split\n",
        "\n",
        "from tensorflow import keras\n",
        "from tensorflow.keras import layers, models\n",
        "from tensorflow.keras.callbacks import EarlyStopping\n",
        "\n",
        "!pip install scikeras\n",
        "from scikeras.wrappers import KerasClassifier\n",
        "from sklearn.metrics import accuracy_score, recall_score ,precision_score, f1_score\n",
        "from tensorflow.keras.models import Sequential\n",
        "from tensorflow.keras.layers import Dense, Dropout\n"
      ]
    },
    {
      "cell_type": "code",
      "source": [
        "df_data = \"https://raw.githubusercontent.com/psyche-mental-health/Psyche-MachineLearning/refs/heads/main/Dataset/clean_data.csv\"\n",
        "data = pd.read_csv(df_data, delimiter= \",\")"
      ],
      "metadata": {
        "id": "IkkB8Azww97w"
      },
      "execution_count": 28,
      "outputs": []
    },
    {
      "cell_type": "code",
      "source": [
        "print(data)"
      ],
      "metadata": {
        "id": "TPdy4fZ5xqWz",
        "colab": {
          "base_uri": "https://localhost:8080/"
        },
        "outputId": "74d49a86-99a4-41a4-96b1-1bef9c619705"
      },
      "execution_count": 29,
      "outputs": [
        {
          "output_type": "stream",
          "name": "stdout",
          "text": [
            "     Sleep  Appetite  Interest  Fatigue  Worthlessness  Concentration  \\\n",
            "0      1.0       1.0       1.0      5.0            5.0            1.0   \n",
            "1      2.0       5.0       5.0      1.0            1.0            5.0   \n",
            "2      5.0       2.0       2.0      2.0            2.0            2.0   \n",
            "3      1.0       1.0       1.0      5.0            5.0            1.0   \n",
            "4      2.0       5.0       5.0      1.0            1.0            5.0   \n",
            "..     ...       ...       ...      ...            ...            ...   \n",
            "808    5.0       5.0       5.0      5.0            5.0            5.0   \n",
            "809    5.0       5.0       5.0      5.0            5.0            5.0   \n",
            "810    5.0       5.0       5.0      5.0            5.0            5.0   \n",
            "811    5.0       5.0       5.0      5.0            5.0            5.0   \n",
            "812    5.0       5.0       5.0      5.0            5.0            5.0   \n",
            "\n",
            "     Agitation  Suicidal Ideation  Sleep Disturbance  Aggression  \\\n",
            "0          5.0                5.0                1.0         5.0   \n",
            "1          1.0                1.0                5.0         1.0   \n",
            "2          2.0                2.0                2.0         2.0   \n",
            "3          5.0                5.0                1.0         5.0   \n",
            "4          1.0                1.0                5.0         1.0   \n",
            "..         ...                ...                ...         ...   \n",
            "808        5.0                5.0                5.0         5.0   \n",
            "809        5.0                5.0                5.0         5.0   \n",
            "810        5.0                5.0                5.0         5.0   \n",
            "811        5.0                5.0                5.0         5.0   \n",
            "812        5.0                5.0                5.0         5.0   \n",
            "\n",
            "     Panic Attacks  Hopelessness  Restlessness  Low Energy  Depression State  \n",
            "0              5.0           5.0           5.0         5.0               1.0  \n",
            "1              1.0           1.0           1.0         1.0               2.0  \n",
            "2              2.0           2.0           2.0         2.0               3.0  \n",
            "3              5.0           5.0           5.0         5.0               0.0  \n",
            "4              1.0           1.0           1.0         1.0               2.0  \n",
            "..             ...           ...           ...         ...               ...  \n",
            "808            5.0           5.0           5.0         5.0               0.0  \n",
            "809            5.0           5.0           5.0         5.0               0.0  \n",
            "810            5.0           5.0           5.0         5.0               0.0  \n",
            "811            5.0           5.0           5.0         5.0               0.0  \n",
            "812            5.0           5.0           5.0         5.0               0.0  \n",
            "\n",
            "[813 rows x 15 columns]\n"
          ]
        }
      ]
    },
    {
      "cell_type": "code",
      "source": [
        "print(data['Depression State'].unique())"
      ],
      "metadata": {
        "id": "4S5tQXet8djw",
        "colab": {
          "base_uri": "https://localhost:8080/"
        },
        "outputId": "1e8f8d2f-842d-4307-a9cd-8fb8b2106005"
      },
      "execution_count": 30,
      "outputs": [
        {
          "output_type": "stream",
          "name": "stdout",
          "text": [
            "[1. 2. 3. 0.]\n"
          ]
        }
      ]
    },
    {
      "cell_type": "code",
      "source": [
        "print(data)"
      ],
      "metadata": {
        "id": "tLy_ffaW21H-",
        "colab": {
          "base_uri": "https://localhost:8080/"
        },
        "outputId": "b94d161e-9f42-4986-9d90-cf79673e5158"
      },
      "execution_count": 31,
      "outputs": [
        {
          "output_type": "stream",
          "name": "stdout",
          "text": [
            "     Sleep  Appetite  Interest  Fatigue  Worthlessness  Concentration  \\\n",
            "0      1.0       1.0       1.0      5.0            5.0            1.0   \n",
            "1      2.0       5.0       5.0      1.0            1.0            5.0   \n",
            "2      5.0       2.0       2.0      2.0            2.0            2.0   \n",
            "3      1.0       1.0       1.0      5.0            5.0            1.0   \n",
            "4      2.0       5.0       5.0      1.0            1.0            5.0   \n",
            "..     ...       ...       ...      ...            ...            ...   \n",
            "808    5.0       5.0       5.0      5.0            5.0            5.0   \n",
            "809    5.0       5.0       5.0      5.0            5.0            5.0   \n",
            "810    5.0       5.0       5.0      5.0            5.0            5.0   \n",
            "811    5.0       5.0       5.0      5.0            5.0            5.0   \n",
            "812    5.0       5.0       5.0      5.0            5.0            5.0   \n",
            "\n",
            "     Agitation  Suicidal Ideation  Sleep Disturbance  Aggression  \\\n",
            "0          5.0                5.0                1.0         5.0   \n",
            "1          1.0                1.0                5.0         1.0   \n",
            "2          2.0                2.0                2.0         2.0   \n",
            "3          5.0                5.0                1.0         5.0   \n",
            "4          1.0                1.0                5.0         1.0   \n",
            "..         ...                ...                ...         ...   \n",
            "808        5.0                5.0                5.0         5.0   \n",
            "809        5.0                5.0                5.0         5.0   \n",
            "810        5.0                5.0                5.0         5.0   \n",
            "811        5.0                5.0                5.0         5.0   \n",
            "812        5.0                5.0                5.0         5.0   \n",
            "\n",
            "     Panic Attacks  Hopelessness  Restlessness  Low Energy  Depression State  \n",
            "0              5.0           5.0           5.0         5.0               1.0  \n",
            "1              1.0           1.0           1.0         1.0               2.0  \n",
            "2              2.0           2.0           2.0         2.0               3.0  \n",
            "3              5.0           5.0           5.0         5.0               0.0  \n",
            "4              1.0           1.0           1.0         1.0               2.0  \n",
            "..             ...           ...           ...         ...               ...  \n",
            "808            5.0           5.0           5.0         5.0               0.0  \n",
            "809            5.0           5.0           5.0         5.0               0.0  \n",
            "810            5.0           5.0           5.0         5.0               0.0  \n",
            "811            5.0           5.0           5.0         5.0               0.0  \n",
            "812            5.0           5.0           5.0         5.0               0.0  \n",
            "\n",
            "[813 rows x 15 columns]\n"
          ]
        }
      ]
    },
    {
      "cell_type": "code",
      "source": [
        "data = pd.DataFrame(data)\n",
        "\n",
        "X = np.array(data.drop(['Depression State'], axis=1))\n",
        "y = np.array(data['Depression State'])\n",
        "\n",
        "data = pd.concat([pd.DataFrame(X), pd.Series(y, name='Depression State')], axis=1)\n",
        "data_copy = data.dropna()"
      ],
      "metadata": {
        "id": "T_ed1AA8yOhm"
      },
      "execution_count": 32,
      "outputs": []
    },
    {
      "cell_type": "code",
      "source": [
        "from sklearn import model_selection\n",
        "\n",
        "X_train, X_test, y_train, y_test = model_selection.train_test_split(X, y, stratify=y, random_state=42, test_size = 0.25)"
      ],
      "metadata": {
        "id": "ENuE1IoDy0X_"
      },
      "execution_count": 33,
      "outputs": []
    },
    {
      "cell_type": "code",
      "source": [
        "print('Samples in Train Set:', len(X_train))\n",
        "print('Samples in Test Set:', len(X_test))"
      ],
      "metadata": {
        "id": "SvTDhISnz7up",
        "colab": {
          "base_uri": "https://localhost:8080/"
        },
        "outputId": "64352504-26a6-4517-d13c-c7804e20fdf5"
      },
      "execution_count": 34,
      "outputs": [
        {
          "output_type": "stream",
          "name": "stdout",
          "text": [
            "Samples in Train Set: 609\n",
            "Samples in Test Set: 204\n"
          ]
        }
      ]
    },
    {
      "cell_type": "code",
      "source": [
        "from sklearn.preprocessing import StandardScaler\n",
        "\n",
        "scaler = StandardScaler()\n",
        "X_train_scaled = scaler.fit_transform(X_train)\n",
        "X_test_scaled = scaler.transform(X_test)\n"
      ],
      "metadata": {
        "id": "xYA-ZugdZcDL"
      },
      "execution_count": 35,
      "outputs": []
    },
    {
      "cell_type": "code",
      "source": [
        "print(data)"
      ],
      "metadata": {
        "colab": {
          "base_uri": "https://localhost:8080/"
        },
        "id": "DINpwtKwgkXz",
        "outputId": "9f853934-4901-4d56-c572-7b2a52afdc90"
      },
      "execution_count": 36,
      "outputs": [
        {
          "output_type": "stream",
          "name": "stdout",
          "text": [
            "       0    1    2    3    4    5    6    7    8    9   10   11   12   13  \\\n",
            "0    1.0  1.0  1.0  5.0  5.0  1.0  5.0  5.0  1.0  5.0  5.0  5.0  5.0  5.0   \n",
            "1    2.0  5.0  5.0  1.0  1.0  5.0  1.0  1.0  5.0  1.0  1.0  1.0  1.0  1.0   \n",
            "2    5.0  2.0  2.0  2.0  2.0  2.0  2.0  2.0  2.0  2.0  2.0  2.0  2.0  2.0   \n",
            "3    1.0  1.0  1.0  5.0  5.0  1.0  5.0  5.0  1.0  5.0  5.0  5.0  5.0  5.0   \n",
            "4    2.0  5.0  5.0  1.0  1.0  5.0  1.0  1.0  5.0  1.0  1.0  1.0  1.0  1.0   \n",
            "..   ...  ...  ...  ...  ...  ...  ...  ...  ...  ...  ...  ...  ...  ...   \n",
            "808  5.0  5.0  5.0  5.0  5.0  5.0  5.0  5.0  5.0  5.0  5.0  5.0  5.0  5.0   \n",
            "809  5.0  5.0  5.0  5.0  5.0  5.0  5.0  5.0  5.0  5.0  5.0  5.0  5.0  5.0   \n",
            "810  5.0  5.0  5.0  5.0  5.0  5.0  5.0  5.0  5.0  5.0  5.0  5.0  5.0  5.0   \n",
            "811  5.0  5.0  5.0  5.0  5.0  5.0  5.0  5.0  5.0  5.0  5.0  5.0  5.0  5.0   \n",
            "812  5.0  5.0  5.0  5.0  5.0  5.0  5.0  5.0  5.0  5.0  5.0  5.0  5.0  5.0   \n",
            "\n",
            "     Depression State  \n",
            "0                 1.0  \n",
            "1                 2.0  \n",
            "2                 3.0  \n",
            "3                 0.0  \n",
            "4                 2.0  \n",
            "..                ...  \n",
            "808               0.0  \n",
            "809               0.0  \n",
            "810               0.0  \n",
            "811               0.0  \n",
            "812               0.0  \n",
            "\n",
            "[813 rows x 15 columns]\n"
          ]
        }
      ]
    },
    {
      "cell_type": "code",
      "source": [
        "from imblearn.over_sampling import SMOTE\n",
        "\n",
        "sm = SMOTE(random_state=8)\n",
        "\n",
        "X_bal, y_bal = sm.fit_resample(X_train, y_train)\n",
        "\n"
      ],
      "metadata": {
        "id": "_5TpDA3Et1q2"
      },
      "execution_count": 37,
      "outputs": []
    },
    {
      "cell_type": "markdown",
      "source": [
        "# Neural Network"
      ],
      "metadata": {
        "id": "7HqU8Fmv9ek8"
      }
    },
    {
      "cell_type": "code",
      "source": [
        "!pip install keras-tuner --upgrade\n",
        "import tensorflow as tf\n",
        "from kerastuner.tuners import RandomSearch\n",
        "from tensorflow.keras.optimizers import Adam"
      ],
      "metadata": {
        "id": "R4lhQren_r3q",
        "colab": {
          "base_uri": "https://localhost:8080/"
        },
        "outputId": "e1bdb6c1-3977-4e6b-8a0e-14e12d616c5f"
      },
      "execution_count": 38,
      "outputs": [
        {
          "output_type": "stream",
          "name": "stdout",
          "text": [
            "Requirement already satisfied: keras-tuner in /usr/local/lib/python3.10/dist-packages (1.4.7)\n",
            "Requirement already satisfied: keras in /usr/local/lib/python3.10/dist-packages (from keras-tuner) (3.5.0)\n",
            "Requirement already satisfied: packaging in /usr/local/lib/python3.10/dist-packages (from keras-tuner) (24.2)\n",
            "Requirement already satisfied: requests in /usr/local/lib/python3.10/dist-packages (from keras-tuner) (2.32.3)\n",
            "Requirement already satisfied: kt-legacy in /usr/local/lib/python3.10/dist-packages (from keras-tuner) (1.0.5)\n",
            "Requirement already satisfied: absl-py in /usr/local/lib/python3.10/dist-packages (from keras->keras-tuner) (1.4.0)\n",
            "Requirement already satisfied: numpy in /usr/local/lib/python3.10/dist-packages (from keras->keras-tuner) (1.26.4)\n",
            "Requirement already satisfied: rich in /usr/local/lib/python3.10/dist-packages (from keras->keras-tuner) (13.9.4)\n",
            "Requirement already satisfied: namex in /usr/local/lib/python3.10/dist-packages (from keras->keras-tuner) (0.0.8)\n",
            "Requirement already satisfied: h5py in /usr/local/lib/python3.10/dist-packages (from keras->keras-tuner) (3.12.1)\n",
            "Requirement already satisfied: optree in /usr/local/lib/python3.10/dist-packages (from keras->keras-tuner) (0.13.1)\n",
            "Requirement already satisfied: ml-dtypes in /usr/local/lib/python3.10/dist-packages (from keras->keras-tuner) (0.4.1)\n",
            "Requirement already satisfied: charset-normalizer<4,>=2 in /usr/local/lib/python3.10/dist-packages (from requests->keras-tuner) (3.4.0)\n",
            "Requirement already satisfied: idna<4,>=2.5 in /usr/local/lib/python3.10/dist-packages (from requests->keras-tuner) (3.10)\n",
            "Requirement already satisfied: urllib3<3,>=1.21.1 in /usr/local/lib/python3.10/dist-packages (from requests->keras-tuner) (2.2.3)\n",
            "Requirement already satisfied: certifi>=2017.4.17 in /usr/local/lib/python3.10/dist-packages (from requests->keras-tuner) (2024.8.30)\n",
            "Requirement already satisfied: typing-extensions>=4.5.0 in /usr/local/lib/python3.10/dist-packages (from optree->keras->keras-tuner) (4.12.2)\n",
            "Requirement already satisfied: markdown-it-py>=2.2.0 in /usr/local/lib/python3.10/dist-packages (from rich->keras->keras-tuner) (3.0.0)\n",
            "Requirement already satisfied: pygments<3.0.0,>=2.13.0 in /usr/local/lib/python3.10/dist-packages (from rich->keras->keras-tuner) (2.18.0)\n",
            "Requirement already satisfied: mdurl~=0.1 in /usr/local/lib/python3.10/dist-packages (from markdown-it-py>=2.2.0->rich->keras->keras-tuner) (0.1.2)\n"
          ]
        }
      ]
    },
    {
      "cell_type": "markdown",
      "source": [
        "## Regularization"
      ],
      "metadata": {
        "id": "yIER2SKMr5j5"
      }
    },
    {
      "cell_type": "code",
      "source": [
        "from tensorflow.keras.regularizers import l2\n",
        "\n",
        "model = Sequential()\n",
        "model.add(keras.Input(shape=(14,)))\n",
        "model.add(Dense(128, input_dim=X_train.shape[1], activation='relu'))\n",
        "model.add(Dropout(0.5))\n",
        "model.add(Dense(64, activation='relu', kernel_regularizer=l2(0.01)))\n",
        "model.add(Dropout(0.5))\n",
        "model.add(Dense(32, activation='relu'))\n",
        "model.add(Dropout(0.5))\n",
        "model.add(Dense(len(np.unique(y_train)), activation='softmax'))\n",
        "model.compile(optimizer=Adam(learning_rate=0.001), loss='sparse_categorical_crossentropy', metrics=['accuracy'])"
      ],
      "metadata": {
        "id": "RFRV8zhaXb_o",
        "colab": {
          "base_uri": "https://localhost:8080/"
        },
        "outputId": "342a8085-05a4-4859-dd78-5aea4ea41265"
      },
      "execution_count": 39,
      "outputs": [
        {
          "output_type": "stream",
          "name": "stderr",
          "text": [
            "/usr/local/lib/python3.10/dist-packages/keras/src/layers/core/dense.py:87: UserWarning: Do not pass an `input_shape`/`input_dim` argument to a layer. When using Sequential models, prefer using an `Input(shape)` object as the first layer in the model instead.\n",
            "  super().__init__(activity_regularizer=activity_regularizer, **kwargs)\n"
          ]
        }
      ]
    },
    {
      "cell_type": "markdown",
      "source": [
        "## Hyperparameter Tunning"
      ],
      "metadata": {
        "id": "9haNsjvUr-lO"
      }
    },
    {
      "cell_type": "code",
      "source": [
        "\n",
        "def build_model(hp):\n",
        "    model = models.Sequential()\n",
        "    model.add(keras.Input(shape=(14,)))\n",
        "    model.add(layers.Dense(hp.Int('units', min_value=64, max_value=256, step=64),\n",
        "                           activation='relu', input_shape=(X_train.shape[1],)))\n",
        "    model.add(layers.BatchNormalization())\n",
        "    model.add(layers.Dropout(hp.Float('dropout', min_value=0.3, max_value=0.5, step=0.1)))\n",
        "    model.add(layers.Dense(4, activation='softmax'))\n",
        "    model.compile(optimizer=Adam(learning_rate=hp.Choice('learning_rate', [0.01, 0.001, 0.005, 0.0001, 0.0005])),\n",
        "                  loss='sparse_categorical_crossentropy', metrics=['accuracy'])\n",
        "    return model"
      ],
      "metadata": {
        "id": "wUJLwx10GdJw"
      },
      "execution_count": 40,
      "outputs": []
    },
    {
      "cell_type": "code",
      "source": [
        "def build_model(hp):\n",
        "    model = models.Sequential()\n",
        "    model.add(keras.Input(shape=(14,)))\n",
        "    model.add(layers.Dense(hp.Int('units_1', min_value=128, max_value=512, step=64), activation='relu'))\n",
        "    model.add(layers.BatchNormalization())\n",
        "    model.add(layers.Dropout(hp.Float('dropout_1', min_value=0.2, max_value=0.4, step=0.1)))\n",
        "    model.add(layers.Dense(hp.Int('units_2', min_value=64, max_value=256, step=64), activation='relu'))\n",
        "    model.add(layers.BatchNormalization())\n",
        "    model.add(layers.Dropout(hp.Float('dropout_2', min_value=0.2, max_value=0.3, step=0.1)))\n",
        "    model.add(layers.Dense(hp.Int('units_3', min_value=32, max_value=128, step=32), activation='relu'))\n",
        "    model.add(layers.BatchNormalization())\n",
        "    model.add(layers.Dropout(hp.Float('dropout_3', min_value=0.2, max_value=0.3, step=0.1)))\n",
        "    model.add(layers.Dense(4, activation='softmax'))\n",
        "    model.compile(optimizer=Adam(learning_rate=hp.Choice('learning_rate', [0.01, 0.001, 0.0005])),loss='sparse_categorical_crossentropy',metrics=['accuracy'])\n",
        "\n",
        "    return model"
      ],
      "metadata": {
        "id": "9qcC__J9ogYL"
      },
      "execution_count": 41,
      "outputs": []
    },
    {
      "cell_type": "code",
      "source": [
        "import os\n",
        "import shutil\n",
        "\n",
        "if os.path.exists('./untitled_project'):\n",
        "    shutil.rmtree('./untitled_project')\n",
        "else:\n",
        "    print(\"Directory './untitled_project' not found.\")\n",
        "try:\n",
        "    shutil.rmtree('./untitled_project')\n",
        "except FileNotFoundError:\n",
        "    print(\"Directory './untitled_project' not found, skipping deletion.\")"
      ],
      "metadata": {
        "colab": {
          "base_uri": "https://localhost:8080/"
        },
        "id": "650Ya81ayVp2",
        "outputId": "3ea6890b-ea05-476a-c2af-29a730e98bc8"
      },
      "execution_count": 42,
      "outputs": [
        {
          "output_type": "stream",
          "name": "stdout",
          "text": [
            "Directory './untitled_project' not found.\n",
            "Directory './untitled_project' not found, skipping deletion.\n"
          ]
        }
      ]
    },
    {
      "cell_type": "code",
      "source": [
        "tuner = RandomSearch(build_model, objective='val_accuracy', max_trials=5)\n",
        "tuner.search(X_train, y_train, epochs=50, validation_data=(X_test, y_test))"
      ],
      "metadata": {
        "id": "v_023rc3GvPy",
        "colab": {
          "base_uri": "https://localhost:8080/"
        },
        "outputId": "6a926aa6-adbb-4b4e-af00-54136d96d3e4"
      },
      "execution_count": 43,
      "outputs": [
        {
          "output_type": "stream",
          "name": "stdout",
          "text": [
            "Trial 5 Complete [00h 00m 15s]\n",
            "val_accuracy: 0.6225489974021912\n",
            "\n",
            "Best val_accuracy So Far: 0.6372548937797546\n",
            "Total elapsed time: 00h 01m 52s\n"
          ]
        }
      ]
    },
    {
      "cell_type": "code",
      "source": [
        "best_hps=tuner.get_best_hyperparameters(num_trials=1)[0]"
      ],
      "metadata": {
        "id": "7LQaIsTEIize"
      },
      "execution_count": 44,
      "outputs": []
    },
    {
      "cell_type": "code",
      "source": [
        "units_1 = best_hps.get('units_1')\n",
        "units_2 = best_hps.get('units_2')\n",
        "units_3 = best_hps.get('units_3')\n",
        "dropout_rate_1 = best_hps.get('dropout_1')\n",
        "dropout_rate_2 = best_hps.get('dropout_2')\n",
        "dropout_rate_3 = best_hps.get('dropout_3')\n",
        "learning_rate = best_hps.get('learning_rate')"
      ],
      "metadata": {
        "id": "-fn6lWCnvy-J"
      },
      "execution_count": 45,
      "outputs": []
    },
    {
      "cell_type": "code",
      "source": [
        "print(f\"Optimal Units 1: {best_hps.get('units_1')}\")\n",
        "print(f\"Optimal Units 2: {best_hps.get('units_2')}\")\n",
        "print(f\"Optimal Units 3: {best_hps.get('units_3')}\")\n",
        "print(f\"Optimal dropout Rate 1: {best_hps.get('dropout_1')}\")\n",
        "print(f\"Optimal dropout Rate 2: {best_hps.get('dropout_2')}\")\n",
        "print(f\"Optimal dropout Rate 3: {best_hps.get('dropout_3')}\")\n",
        "print(f\"Optimal Learning Rate: {best_hps.get('learning_rate')}\")"
      ],
      "metadata": {
        "id": "zwF8CnSFsjAs",
        "colab": {
          "base_uri": "https://localhost:8080/"
        },
        "outputId": "00f84df6-fcaa-47cd-b145-04fcc7e2ab09"
      },
      "execution_count": 46,
      "outputs": [
        {
          "output_type": "stream",
          "name": "stdout",
          "text": [
            "Optimal Units 1: 128\n",
            "Optimal Units 2: 256\n",
            "Optimal Units 3: 32\n",
            "Optimal dropout Rate 1: 0.2\n",
            "Optimal dropout Rate 2: 0.2\n",
            "Optimal dropout Rate 3: 0.2\n",
            "Optimal Learning Rate: 0.001\n"
          ]
        }
      ]
    },
    {
      "cell_type": "markdown",
      "source": [
        "## Define EarlyStopping"
      ],
      "metadata": {
        "id": "L3c4ANMpvcuI"
      }
    },
    {
      "cell_type": "code",
      "source": [
        "from tensorflow.keras.callbacks import EarlyStopping\n",
        "early_stopping = EarlyStopping(\n",
        "    monitor='val_loss',\n",
        "    min_delta=0.001,\n",
        "    patience=5,\n",
        "    restore_best_weights=True,\n",
        ")"
      ],
      "metadata": {
        "id": "Dmp7jcGtI6QW"
      },
      "execution_count": 47,
      "outputs": []
    },
    {
      "cell_type": "markdown",
      "source": [
        "## Define the model with Best Parameter Tunning"
      ],
      "metadata": {
        "id": "GYETVHiiviIT"
      }
    },
    {
      "cell_type": "code",
      "source": [
        "final_model = models.Sequential()\n",
        "final_model.add(keras.Input(shape=(14,)))\n",
        "final_model.add(layers.Dense(units_1, activation='relu'))\n",
        "final_model.add(layers.BatchNormalization())\n",
        "final_model.add(layers.Dropout(dropout_rate_1))\n",
        "final_model.add(layers.Dense(units_2, activation='relu'))\n",
        "final_model.add(layers.BatchNormalization())\n",
        "final_model.add(layers.Dropout(dropout_rate_2))\n",
        "final_model.add(layers.Dense(units_3, activation='relu'))\n",
        "final_model.add(layers.BatchNormalization())\n",
        "final_model.add(layers.Dropout(dropout_rate_3))\n",
        "final_model.add(layers.Dense(4, activation='softmax'))\n",
        "\n",
        "final_model.compile(optimizer=Adam(learning_rate=learning_rate),\n",
        "                    loss='sparse_categorical_crossentropy',\n",
        "                    metrics=['accuracy'])"
      ],
      "metadata": {
        "id": "DrK6bm_iql7S"
      },
      "execution_count": 48,
      "outputs": []
    },
    {
      "cell_type": "markdown",
      "source": [
        "## Train the model"
      ],
      "metadata": {
        "id": "YoEXLb0HsPGt"
      }
    },
    {
      "cell_type": "code",
      "source": [
        "history = final_model.fit(\n",
        "    X_train, y_train,\n",
        "    validation_data=(X_test, y_test),\n",
        "    epochs=500,\n",
        "    batch_size=32,\n",
        "    callbacks=[early_stopping]\n",
        ")\n"
      ],
      "metadata": {
        "id": "KDPfyesCKelQ",
        "colab": {
          "base_uri": "https://localhost:8080/"
        },
        "outputId": "d7a4a2bc-668c-47b0-ea84-e3b361fd9d69"
      },
      "execution_count": 49,
      "outputs": [
        {
          "output_type": "stream",
          "name": "stdout",
          "text": [
            "Epoch 1/500\n",
            "\u001b[1m20/20\u001b[0m \u001b[32m━━━━━━━━━━━━━━━━━━━━\u001b[0m\u001b[37m\u001b[0m \u001b[1m6s\u001b[0m 72ms/step - accuracy: 0.3510 - loss: 1.8908 - val_accuracy: 0.5490 - val_loss: 1.1106\n",
            "Epoch 2/500\n",
            "\u001b[1m20/20\u001b[0m \u001b[32m━━━━━━━━━━━━━━━━━━━━\u001b[0m\u001b[37m\u001b[0m \u001b[1m2s\u001b[0m 18ms/step - accuracy: 0.5096 - loss: 1.2944 - val_accuracy: 0.5343 - val_loss: 1.1394\n",
            "Epoch 3/500\n",
            "\u001b[1m20/20\u001b[0m \u001b[32m━━━━━━━━━━━━━━━━━━━━\u001b[0m\u001b[37m\u001b[0m \u001b[1m1s\u001b[0m 12ms/step - accuracy: 0.5552 - loss: 1.1999 - val_accuracy: 0.5490 - val_loss: 1.1344\n",
            "Epoch 4/500\n",
            "\u001b[1m20/20\u001b[0m \u001b[32m━━━━━━━━━━━━━━━━━━━━\u001b[0m\u001b[37m\u001b[0m \u001b[1m0s\u001b[0m 13ms/step - accuracy: 0.5942 - loss: 1.1285 - val_accuracy: 0.5392 - val_loss: 1.1022\n",
            "Epoch 5/500\n",
            "\u001b[1m20/20\u001b[0m \u001b[32m━━━━━━━━━━━━━━━━━━━━\u001b[0m\u001b[37m\u001b[0m \u001b[1m1s\u001b[0m 10ms/step - accuracy: 0.5455 - loss: 1.1493 - val_accuracy: 0.5294 - val_loss: 1.0830\n",
            "Epoch 6/500\n",
            "\u001b[1m20/20\u001b[0m \u001b[32m━━━━━━━━━━━━━━━━━━━━\u001b[0m\u001b[37m\u001b[0m \u001b[1m0s\u001b[0m 13ms/step - accuracy: 0.5470 - loss: 1.1635 - val_accuracy: 0.5392 - val_loss: 1.0609\n",
            "Epoch 7/500\n",
            "\u001b[1m20/20\u001b[0m \u001b[32m━━━━━━━━━━━━━━━━━━━━\u001b[0m\u001b[37m\u001b[0m \u001b[1m1s\u001b[0m 14ms/step - accuracy: 0.5815 - loss: 1.0842 - val_accuracy: 0.5343 - val_loss: 1.0760\n",
            "Epoch 8/500\n",
            "\u001b[1m20/20\u001b[0m \u001b[32m━━━━━━━━━━━━━━━━━━━━\u001b[0m\u001b[37m\u001b[0m \u001b[1m1s\u001b[0m 15ms/step - accuracy: 0.5652 - loss: 1.1534 - val_accuracy: 0.5245 - val_loss: 1.0256\n",
            "Epoch 9/500\n",
            "\u001b[1m20/20\u001b[0m \u001b[32m━━━━━━━━━━━━━━━━━━━━\u001b[0m\u001b[37m\u001b[0m \u001b[1m1s\u001b[0m 14ms/step - accuracy: 0.5649 - loss: 1.0227 - val_accuracy: 0.5098 - val_loss: 1.0013\n",
            "Epoch 10/500\n",
            "\u001b[1m20/20\u001b[0m \u001b[32m━━━━━━━━━━━━━━━━━━━━\u001b[0m\u001b[37m\u001b[0m \u001b[1m1s\u001b[0m 14ms/step - accuracy: 0.6374 - loss: 0.9278 - val_accuracy: 0.5441 - val_loss: 0.9458\n",
            "Epoch 11/500\n",
            "\u001b[1m20/20\u001b[0m \u001b[32m━━━━━━━━━━━━━━━━━━━━\u001b[0m\u001b[37m\u001b[0m \u001b[1m0s\u001b[0m 14ms/step - accuracy: 0.5877 - loss: 0.9674 - val_accuracy: 0.5588 - val_loss: 0.9357\n",
            "Epoch 12/500\n",
            "\u001b[1m20/20\u001b[0m \u001b[32m━━━━━━━━━━━━━━━━━━━━\u001b[0m\u001b[37m\u001b[0m \u001b[1m1s\u001b[0m 20ms/step - accuracy: 0.5855 - loss: 0.9989 - val_accuracy: 0.5637 - val_loss: 0.9211\n",
            "Epoch 13/500\n",
            "\u001b[1m20/20\u001b[0m \u001b[32m━━━━━━━━━━━━━━━━━━━━\u001b[0m\u001b[37m\u001b[0m \u001b[1m0s\u001b[0m 12ms/step - accuracy: 0.6119 - loss: 0.9329 - val_accuracy: 0.5686 - val_loss: 0.9232\n",
            "Epoch 14/500\n",
            "\u001b[1m20/20\u001b[0m \u001b[32m━━━━━━━━━━━━━━━━━━━━\u001b[0m\u001b[37m\u001b[0m \u001b[1m0s\u001b[0m 10ms/step - accuracy: 0.5664 - loss: 1.0327 - val_accuracy: 0.6029 - val_loss: 0.8730\n",
            "Epoch 15/500\n",
            "\u001b[1m20/20\u001b[0m \u001b[32m━━━━━━━━━━━━━━━━━━━━\u001b[0m\u001b[37m\u001b[0m \u001b[1m0s\u001b[0m 11ms/step - accuracy: 0.6204 - loss: 0.8888 - val_accuracy: 0.5931 - val_loss: 0.8496\n",
            "Epoch 16/500\n",
            "\u001b[1m20/20\u001b[0m \u001b[32m━━━━━━━━━━━━━━━━━━━━\u001b[0m\u001b[37m\u001b[0m \u001b[1m0s\u001b[0m 10ms/step - accuracy: 0.6152 - loss: 0.8969 - val_accuracy: 0.6029 - val_loss: 0.8469\n",
            "Epoch 17/500\n",
            "\u001b[1m20/20\u001b[0m \u001b[32m━━━━━━━━━━━━━━━━━━━━\u001b[0m\u001b[37m\u001b[0m \u001b[1m0s\u001b[0m 14ms/step - accuracy: 0.5789 - loss: 0.9932 - val_accuracy: 0.6029 - val_loss: 0.8499\n",
            "Epoch 18/500\n",
            "\u001b[1m20/20\u001b[0m \u001b[32m━━━━━━━━━━━━━━━━━━━━\u001b[0m\u001b[37m\u001b[0m \u001b[1m1s\u001b[0m 13ms/step - accuracy: 0.5959 - loss: 0.9546 - val_accuracy: 0.6029 - val_loss: 0.8517\n",
            "Epoch 19/500\n",
            "\u001b[1m20/20\u001b[0m \u001b[32m━━━━━━━━━━━━━━━━━━━━\u001b[0m\u001b[37m\u001b[0m \u001b[1m0s\u001b[0m 19ms/step - accuracy: 0.6592 - loss: 0.8961 - val_accuracy: 0.5980 - val_loss: 0.8319\n",
            "Epoch 20/500\n",
            "\u001b[1m20/20\u001b[0m \u001b[32m━━━━━━━━━━━━━━━━━━━━\u001b[0m\u001b[37m\u001b[0m \u001b[1m0s\u001b[0m 11ms/step - accuracy: 0.6080 - loss: 0.9293 - val_accuracy: 0.5980 - val_loss: 0.8275\n",
            "Epoch 21/500\n",
            "\u001b[1m20/20\u001b[0m \u001b[32m━━━━━━━━━━━━━━━━━━━━\u001b[0m\u001b[37m\u001b[0m \u001b[1m0s\u001b[0m 13ms/step - accuracy: 0.5981 - loss: 0.8646 - val_accuracy: 0.5931 - val_loss: 0.8275\n",
            "Epoch 22/500\n",
            "\u001b[1m20/20\u001b[0m \u001b[32m━━━━━━━━━━━━━━━━━━━━\u001b[0m\u001b[37m\u001b[0m \u001b[1m0s\u001b[0m 12ms/step - accuracy: 0.6162 - loss: 0.8779 - val_accuracy: 0.5980 - val_loss: 0.8387\n",
            "Epoch 23/500\n",
            "\u001b[1m20/20\u001b[0m \u001b[32m━━━━━━━━━━━━━━━━━━━━\u001b[0m\u001b[37m\u001b[0m \u001b[1m1s\u001b[0m 10ms/step - accuracy: 0.5995 - loss: 0.8799 - val_accuracy: 0.6029 - val_loss: 0.8373\n",
            "Epoch 24/500\n",
            "\u001b[1m20/20\u001b[0m \u001b[32m━━━━━━━━━━━━━━━━━━━━\u001b[0m\u001b[37m\u001b[0m \u001b[1m0s\u001b[0m 17ms/step - accuracy: 0.5855 - loss: 1.0012 - val_accuracy: 0.6029 - val_loss: 0.8249\n",
            "Epoch 25/500\n",
            "\u001b[1m20/20\u001b[0m \u001b[32m━━━━━━━━━━━━━━━━━━━━\u001b[0m\u001b[37m\u001b[0m \u001b[1m1s\u001b[0m 19ms/step - accuracy: 0.6269 - loss: 0.8577 - val_accuracy: 0.6078 - val_loss: 0.8182\n",
            "Epoch 26/500\n",
            "\u001b[1m20/20\u001b[0m \u001b[32m━━━━━━━━━━━━━━━━━━━━\u001b[0m\u001b[37m\u001b[0m \u001b[1m1s\u001b[0m 17ms/step - accuracy: 0.6079 - loss: 0.9163 - val_accuracy: 0.5882 - val_loss: 0.8348\n",
            "Epoch 27/500\n",
            "\u001b[1m20/20\u001b[0m \u001b[32m━━━━━━━━━━━━━━━━━━━━\u001b[0m\u001b[37m\u001b[0m \u001b[1m1s\u001b[0m 17ms/step - accuracy: 0.5960 - loss: 0.9446 - val_accuracy: 0.6029 - val_loss: 0.8207\n",
            "Epoch 28/500\n",
            "\u001b[1m20/20\u001b[0m \u001b[32m━━━━━━━━━━━━━━━━━━━━\u001b[0m\u001b[37m\u001b[0m \u001b[1m1s\u001b[0m 19ms/step - accuracy: 0.6245 - loss: 0.8512 - val_accuracy: 0.6078 - val_loss: 0.8245\n",
            "Epoch 29/500\n",
            "\u001b[1m20/20\u001b[0m \u001b[32m━━━━━━━━━━━━━━━━━━━━\u001b[0m\u001b[37m\u001b[0m \u001b[1m1s\u001b[0m 34ms/step - accuracy: 0.6209 - loss: 0.8872 - val_accuracy: 0.6029 - val_loss: 0.8153\n",
            "Epoch 30/500\n",
            "\u001b[1m20/20\u001b[0m \u001b[32m━━━━━━━━━━━━━━━━━━━━\u001b[0m\u001b[37m\u001b[0m \u001b[1m1s\u001b[0m 21ms/step - accuracy: 0.6210 - loss: 0.8947 - val_accuracy: 0.6078 - val_loss: 0.8270\n",
            "Epoch 31/500\n",
            "\u001b[1m20/20\u001b[0m \u001b[32m━━━━━━━━━━━━━━━━━━━━\u001b[0m\u001b[37m\u001b[0m \u001b[1m1s\u001b[0m 17ms/step - accuracy: 0.6289 - loss: 0.8584 - val_accuracy: 0.6029 - val_loss: 0.8194\n",
            "Epoch 32/500\n",
            "\u001b[1m20/20\u001b[0m \u001b[32m━━━━━━━━━━━━━━━━━━━━\u001b[0m\u001b[37m\u001b[0m \u001b[1m0s\u001b[0m 16ms/step - accuracy: 0.6093 - loss: 0.9194 - val_accuracy: 0.5980 - val_loss: 0.8193\n",
            "Epoch 33/500\n",
            "\u001b[1m20/20\u001b[0m \u001b[32m━━━━━━━━━━━━━━━━━━━━\u001b[0m\u001b[37m\u001b[0m \u001b[1m1s\u001b[0m 13ms/step - accuracy: 0.6126 - loss: 0.8684 - val_accuracy: 0.5980 - val_loss: 0.8284\n",
            "Epoch 34/500\n",
            "\u001b[1m20/20\u001b[0m \u001b[32m━━━━━━━━━━━━━━━━━━━━\u001b[0m\u001b[37m\u001b[0m \u001b[1m1s\u001b[0m 12ms/step - accuracy: 0.6048 - loss: 0.9067 - val_accuracy: 0.6127 - val_loss: 0.8539\n"
          ]
        }
      ]
    },
    {
      "cell_type": "markdown",
      "source": [
        "## Evaluate the Model"
      ],
      "metadata": {
        "id": "2hCyR6P2sU-_"
      }
    },
    {
      "cell_type": "code",
      "source": [
        "loss, accuracy = final_model.evaluate(X_test, y_test)\n",
        "print(f'Test Loss: {loss:.4f}')\n",
        "print(f\"Test Accuracy: {accuracy:.2f}\")"
      ],
      "metadata": {
        "id": "64hyaOSgL3jV",
        "colab": {
          "base_uri": "https://localhost:8080/"
        },
        "outputId": "93b818d0-e2d7-4caa-9bbc-352eacc7346d"
      },
      "execution_count": 50,
      "outputs": [
        {
          "output_type": "stream",
          "name": "stdout",
          "text": [
            "\u001b[1m7/7\u001b[0m \u001b[32m━━━━━━━━━━━━━━━━━━━━\u001b[0m\u001b[37m\u001b[0m \u001b[1m0s\u001b[0m 4ms/step - accuracy: 0.6162 - loss: 0.7726 \n",
            "Test Loss: 0.8153\n",
            "Test Accuracy: 0.60\n"
          ]
        }
      ]
    },
    {
      "cell_type": "code",
      "source": [
        "loss, accuracy = final_model.evaluate(X_train, y_train)\n",
        "print(f'Train Loss: {loss:.4f}')\n",
        "print(f\"Train Accuracy: {accuracy:.2f}\")"
      ],
      "metadata": {
        "id": "s5sCCmPgOCYm",
        "colab": {
          "base_uri": "https://localhost:8080/"
        },
        "outputId": "5afa2ced-70a3-47ac-d7cd-0756ea205e0b"
      },
      "execution_count": 51,
      "outputs": [
        {
          "output_type": "stream",
          "name": "stdout",
          "text": [
            "\u001b[1m20/20\u001b[0m \u001b[32m━━━━━━━━━━━━━━━━━━━━\u001b[0m\u001b[37m\u001b[0m \u001b[1m0s\u001b[0m 4ms/step - accuracy: 0.6520 - loss: 0.7654\n",
            "Train Loss: 0.7865\n",
            "Train Accuracy: 0.64\n"
          ]
        }
      ]
    }
  ]
}