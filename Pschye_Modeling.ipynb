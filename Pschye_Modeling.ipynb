{
  "nbformat": 4,
  "nbformat_minor": 0,
  "metadata": {
    "colab": {
      "provenance": []
    },
    "kernelspec": {
      "name": "python3",
      "display_name": "Python 3"
    },
    "language_info": {
      "name": "python"
    }
  },
  "cells": [
    {
      "cell_type": "code",
      "execution_count": null,
      "metadata": {
        "id": "wWc93NB2xKqA",
        "colab": {
          "base_uri": "https://localhost:8080/"
        },
        "outputId": "1c08abf9-4da5-4c2f-b0e8-a388447574b6"
      },
      "outputs": [
        {
          "output_type": "stream",
          "name": "stdout",
          "text": [
            "Requirement already satisfied: scikeras in /usr/local/lib/python3.10/dist-packages (0.13.0)\n",
            "Requirement already satisfied: keras>=3.2.0 in /usr/local/lib/python3.10/dist-packages (from scikeras) (3.5.0)\n",
            "Requirement already satisfied: scikit-learn>=1.4.2 in /usr/local/lib/python3.10/dist-packages (from scikeras) (1.5.2)\n",
            "Requirement already satisfied: absl-py in /usr/local/lib/python3.10/dist-packages (from keras>=3.2.0->scikeras) (1.4.0)\n",
            "Requirement already satisfied: numpy in /usr/local/lib/python3.10/dist-packages (from keras>=3.2.0->scikeras) (1.26.4)\n",
            "Requirement already satisfied: rich in /usr/local/lib/python3.10/dist-packages (from keras>=3.2.0->scikeras) (13.9.4)\n",
            "Requirement already satisfied: namex in /usr/local/lib/python3.10/dist-packages (from keras>=3.2.0->scikeras) (0.0.8)\n",
            "Requirement already satisfied: h5py in /usr/local/lib/python3.10/dist-packages (from keras>=3.2.0->scikeras) (3.12.1)\n",
            "Requirement already satisfied: optree in /usr/local/lib/python3.10/dist-packages (from keras>=3.2.0->scikeras) (0.13.1)\n",
            "Requirement already satisfied: ml-dtypes in /usr/local/lib/python3.10/dist-packages (from keras>=3.2.0->scikeras) (0.4.1)\n",
            "Requirement already satisfied: packaging in /usr/local/lib/python3.10/dist-packages (from keras>=3.2.0->scikeras) (24.2)\n",
            "Requirement already satisfied: scipy>=1.6.0 in /usr/local/lib/python3.10/dist-packages (from scikit-learn>=1.4.2->scikeras) (1.13.1)\n",
            "Requirement already satisfied: joblib>=1.2.0 in /usr/local/lib/python3.10/dist-packages (from scikit-learn>=1.4.2->scikeras) (1.4.2)\n",
            "Requirement already satisfied: threadpoolctl>=3.1.0 in /usr/local/lib/python3.10/dist-packages (from scikit-learn>=1.4.2->scikeras) (3.5.0)\n",
            "Requirement already satisfied: typing-extensions>=4.5.0 in /usr/local/lib/python3.10/dist-packages (from optree->keras>=3.2.0->scikeras) (4.12.2)\n",
            "Requirement already satisfied: markdown-it-py>=2.2.0 in /usr/local/lib/python3.10/dist-packages (from rich->keras>=3.2.0->scikeras) (3.0.0)\n",
            "Requirement already satisfied: pygments<3.0.0,>=2.13.0 in /usr/local/lib/python3.10/dist-packages (from rich->keras>=3.2.0->scikeras) (2.18.0)\n",
            "Requirement already satisfied: mdurl~=0.1 in /usr/local/lib/python3.10/dist-packages (from markdown-it-py>=2.2.0->rich->keras>=3.2.0->scikeras) (0.1.2)\n"
          ]
        }
      ],
      "source": [
        "import pandas as pd\n",
        "import http\n",
        "import numpy as np\n",
        "import matplotlib.pyplot as plt\n",
        "import seaborn as sns\n",
        "import plotly.express as px\n",
        "\n",
        "from sklearn import preprocessing\n",
        "from sklearn.preprocessing import MinMaxScaler, LabelEncoder\n",
        "\n",
        "import tensorflow as tf\n",
        "from sklearn.model_selection import train_test_split\n",
        "\n",
        "from tensorflow import keras\n",
        "from tensorflow.keras import layers, models\n",
        "from tensorflow.keras.callbacks import EarlyStopping\n",
        "\n",
        "!pip install scikeras\n",
        "from scikeras.wrappers import KerasClassifier\n",
        "from sklearn.metrics import accuracy_score, recall_score ,precision_score, f1_score\n",
        "from tensorflow.keras.models import Sequential\n",
        "from tensorflow.keras.layers import Dense, Dropout\n"
      ]
    },
    {
      "cell_type": "code",
      "source": [
        "data = pd.read_csv('/content/clean_data newest newest newest.csv')\n",
        "print(data.head())"
      ],
      "metadata": {
        "id": "TPdy4fZ5xqWz",
        "colab": {
          "base_uri": "https://localhost:8080/"
        },
        "outputId": "631bd8f9-1f9f-4a54-bf57-52d2d30fdad3"
      },
      "execution_count": null,
      "outputs": [
        {
          "output_type": "stream",
          "name": "stdout",
          "text": [
            "   Sleep  Appetite  Interest  Fatigue  Worthlessness  Concentration  \\\n",
            "0    1.0       1.0       1.0      5.0            5.0            1.0   \n",
            "1    2.0       5.0       5.0      1.0            1.0            5.0   \n",
            "2    5.0       2.0       2.0      2.0            2.0            2.0   \n",
            "3    1.0       1.0       1.0      5.0            5.0            1.0   \n",
            "4    2.0       5.0       5.0      1.0            1.0            5.0   \n",
            "\n",
            "   Agitation  Suicidal Ideation  Sleep Disturbance  Aggression  Panic Attacks  \\\n",
            "0        5.0                5.0                1.0         5.0            5.0   \n",
            "1        1.0                1.0                5.0         1.0            1.0   \n",
            "2        2.0                2.0                2.0         2.0            2.0   \n",
            "3        5.0                5.0                1.0         5.0            5.0   \n",
            "4        1.0                1.0                5.0         1.0            1.0   \n",
            "\n",
            "   Hopelessness  Restlessness  Low Energy  Depression State  \n",
            "0           5.0           5.0         5.0               1.0  \n",
            "1           1.0           1.0         1.0               2.0  \n",
            "2           2.0           2.0         2.0               3.0  \n",
            "3           5.0           5.0         5.0               0.0  \n",
            "4           1.0           1.0         1.0               2.0  \n"
          ]
        }
      ]
    },
    {
      "cell_type": "code",
      "source": [
        "print(data['Depression State'].unique())"
      ],
      "metadata": {
        "id": "4S5tQXet8djw",
        "colab": {
          "base_uri": "https://localhost:8080/"
        },
        "outputId": "1bf1d931-f44a-46f0-b0cb-3c651f5ad549"
      },
      "execution_count": null,
      "outputs": [
        {
          "output_type": "stream",
          "name": "stdout",
          "text": [
            "[1. 2. 3. 0.]\n"
          ]
        }
      ]
    },
    {
      "cell_type": "code",
      "source": [
        "print(data)"
      ],
      "metadata": {
        "id": "tLy_ffaW21H-",
        "colab": {
          "base_uri": "https://localhost:8080/"
        },
        "outputId": "fe6d0444-31ef-4e41-f40a-e037a64db7d2"
      },
      "execution_count": null,
      "outputs": [
        {
          "output_type": "stream",
          "name": "stdout",
          "text": [
            "     Sleep  Appetite  Interest  Fatigue  Worthlessness  Concentration  \\\n",
            "0      1.0       1.0       1.0      5.0            5.0            1.0   \n",
            "1      2.0       5.0       5.0      1.0            1.0            5.0   \n",
            "2      5.0       2.0       2.0      2.0            2.0            2.0   \n",
            "3      1.0       1.0       1.0      5.0            5.0            1.0   \n",
            "4      2.0       5.0       5.0      1.0            1.0            5.0   \n",
            "..     ...       ...       ...      ...            ...            ...   \n",
            "808    5.0       5.0       5.0      5.0            5.0            5.0   \n",
            "809    5.0       5.0       5.0      5.0            5.0            5.0   \n",
            "810    5.0       5.0       5.0      5.0            5.0            5.0   \n",
            "811    5.0       5.0       5.0      5.0            5.0            5.0   \n",
            "812    5.0       5.0       5.0      5.0            5.0            5.0   \n",
            "\n",
            "     Agitation  Suicidal Ideation  Sleep Disturbance  Aggression  \\\n",
            "0          5.0                5.0                1.0         5.0   \n",
            "1          1.0                1.0                5.0         1.0   \n",
            "2          2.0                2.0                2.0         2.0   \n",
            "3          5.0                5.0                1.0         5.0   \n",
            "4          1.0                1.0                5.0         1.0   \n",
            "..         ...                ...                ...         ...   \n",
            "808        5.0                5.0                5.0         5.0   \n",
            "809        5.0                5.0                5.0         5.0   \n",
            "810        5.0                5.0                5.0         5.0   \n",
            "811        5.0                5.0                5.0         5.0   \n",
            "812        5.0                5.0                5.0         5.0   \n",
            "\n",
            "     Panic Attacks  Hopelessness  Restlessness  Low Energy  Depression State  \n",
            "0              5.0           5.0           5.0         5.0               1.0  \n",
            "1              1.0           1.0           1.0         1.0               2.0  \n",
            "2              2.0           2.0           2.0         2.0               3.0  \n",
            "3              5.0           5.0           5.0         5.0               0.0  \n",
            "4              1.0           1.0           1.0         1.0               2.0  \n",
            "..             ...           ...           ...         ...               ...  \n",
            "808            5.0           5.0           5.0         5.0               0.0  \n",
            "809            5.0           5.0           5.0         5.0               0.0  \n",
            "810            5.0           5.0           5.0         5.0               0.0  \n",
            "811            5.0           5.0           5.0         5.0               0.0  \n",
            "812            5.0           5.0           5.0         5.0               0.0  \n",
            "\n",
            "[813 rows x 15 columns]\n"
          ]
        }
      ]
    },
    {
      "cell_type": "code",
      "source": [
        "data = pd.DataFrame(data)\n",
        "\n",
        "X = np.array(data.drop(['Depression State'], axis=1))\n",
        "y = np.array(data['Depression State'])\n",
        "\n",
        "data = pd.concat([pd.DataFrame(X), pd.Series(y, name='Depression State')], axis=1)\n",
        "data_copy = data.dropna()"
      ],
      "metadata": {
        "id": "T_ed1AA8yOhm"
      },
      "execution_count": null,
      "outputs": []
    },
    {
      "cell_type": "code",
      "source": [
        "from sklearn import model_selection\n",
        "\n",
        "X_train, X_test, y_train, y_test = model_selection.train_test_split(X, y, stratify=y, random_state=42, test_size = 0.25)"
      ],
      "metadata": {
        "id": "ENuE1IoDy0X_"
      },
      "execution_count": null,
      "outputs": []
    },
    {
      "cell_type": "code",
      "source": [
        "print('Samples in Train Set:', len(X_train))\n",
        "print('Samples in Test Set:', len(X_test))"
      ],
      "metadata": {
        "id": "SvTDhISnz7up",
        "colab": {
          "base_uri": "https://localhost:8080/"
        },
        "outputId": "e7697cf6-47da-4dc8-d267-2d9bf7900b06"
      },
      "execution_count": null,
      "outputs": [
        {
          "output_type": "stream",
          "name": "stdout",
          "text": [
            "Samples in Train Set: 609\n",
            "Samples in Test Set: 204\n"
          ]
        }
      ]
    },
    {
      "cell_type": "code",
      "source": [
        "from sklearn.preprocessing import StandardScaler\n",
        "\n",
        "scaler = StandardScaler()\n",
        "X_train_scaled = scaler.fit_transform(X_train)\n",
        "X_test_scaled = scaler.transform(X_test)\n"
      ],
      "metadata": {
        "id": "xYA-ZugdZcDL"
      },
      "execution_count": null,
      "outputs": []
    },
    {
      "cell_type": "code",
      "source": [
        "print(data)"
      ],
      "metadata": {
        "colab": {
          "base_uri": "https://localhost:8080/"
        },
        "id": "DINpwtKwgkXz",
        "outputId": "790e254d-3e52-4cd8-c010-6eec685e1c37"
      },
      "execution_count": null,
      "outputs": [
        {
          "output_type": "stream",
          "name": "stdout",
          "text": [
            "       0    1    2    3    4    5    6    7    8    9   10   11   12   13  \\\n",
            "0    1.0  1.0  1.0  5.0  5.0  1.0  5.0  5.0  1.0  5.0  5.0  5.0  5.0  5.0   \n",
            "1    2.0  5.0  5.0  1.0  1.0  5.0  1.0  1.0  5.0  1.0  1.0  1.0  1.0  1.0   \n",
            "2    5.0  2.0  2.0  2.0  2.0  2.0  2.0  2.0  2.0  2.0  2.0  2.0  2.0  2.0   \n",
            "3    1.0  1.0  1.0  5.0  5.0  1.0  5.0  5.0  1.0  5.0  5.0  5.0  5.0  5.0   \n",
            "4    2.0  5.0  5.0  1.0  1.0  5.0  1.0  1.0  5.0  1.0  1.0  1.0  1.0  1.0   \n",
            "..   ...  ...  ...  ...  ...  ...  ...  ...  ...  ...  ...  ...  ...  ...   \n",
            "808  5.0  5.0  5.0  5.0  5.0  5.0  5.0  5.0  5.0  5.0  5.0  5.0  5.0  5.0   \n",
            "809  5.0  5.0  5.0  5.0  5.0  5.0  5.0  5.0  5.0  5.0  5.0  5.0  5.0  5.0   \n",
            "810  5.0  5.0  5.0  5.0  5.0  5.0  5.0  5.0  5.0  5.0  5.0  5.0  5.0  5.0   \n",
            "811  5.0  5.0  5.0  5.0  5.0  5.0  5.0  5.0  5.0  5.0  5.0  5.0  5.0  5.0   \n",
            "812  5.0  5.0  5.0  5.0  5.0  5.0  5.0  5.0  5.0  5.0  5.0  5.0  5.0  5.0   \n",
            "\n",
            "     Depression State  \n",
            "0                 1.0  \n",
            "1                 2.0  \n",
            "2                 3.0  \n",
            "3                 0.0  \n",
            "4                 2.0  \n",
            "..                ...  \n",
            "808               0.0  \n",
            "809               0.0  \n",
            "810               0.0  \n",
            "811               0.0  \n",
            "812               0.0  \n",
            "\n",
            "[813 rows x 15 columns]\n"
          ]
        }
      ]
    },
    {
      "cell_type": "code",
      "source": [
        "from imblearn.over_sampling import SMOTE\n",
        "\n",
        "sm = SMOTE(random_state=8)\n",
        "\n",
        "X_bal, y_bal = sm.fit_resample(X_train, y_train)\n",
        "\n"
      ],
      "metadata": {
        "id": "_5TpDA3Et1q2"
      },
      "execution_count": null,
      "outputs": []
    },
    {
      "cell_type": "markdown",
      "source": [
        "# Neural Network"
      ],
      "metadata": {
        "id": "7HqU8Fmv9ek8"
      }
    },
    {
      "cell_type": "code",
      "source": [
        "!pip install keras-tuner --upgrade\n",
        "import tensorflow as tf\n",
        "from kerastuner.tuners import RandomSearch\n",
        "from tensorflow.keras.optimizers import Adam"
      ],
      "metadata": {
        "id": "R4lhQren_r3q",
        "colab": {
          "base_uri": "https://localhost:8080/"
        },
        "outputId": "dba9bc36-6aae-41b3-92ba-90aa1913cef6"
      },
      "execution_count": null,
      "outputs": [
        {
          "output_type": "stream",
          "name": "stdout",
          "text": [
            "Requirement already satisfied: keras-tuner in /usr/local/lib/python3.10/dist-packages (1.4.7)\n",
            "Requirement already satisfied: keras in /usr/local/lib/python3.10/dist-packages (from keras-tuner) (3.5.0)\n",
            "Requirement already satisfied: packaging in /usr/local/lib/python3.10/dist-packages (from keras-tuner) (24.2)\n",
            "Requirement already satisfied: requests in /usr/local/lib/python3.10/dist-packages (from keras-tuner) (2.32.3)\n",
            "Requirement already satisfied: kt-legacy in /usr/local/lib/python3.10/dist-packages (from keras-tuner) (1.0.5)\n",
            "Requirement already satisfied: absl-py in /usr/local/lib/python3.10/dist-packages (from keras->keras-tuner) (1.4.0)\n",
            "Requirement already satisfied: numpy in /usr/local/lib/python3.10/dist-packages (from keras->keras-tuner) (1.26.4)\n",
            "Requirement already satisfied: rich in /usr/local/lib/python3.10/dist-packages (from keras->keras-tuner) (13.9.4)\n",
            "Requirement already satisfied: namex in /usr/local/lib/python3.10/dist-packages (from keras->keras-tuner) (0.0.8)\n",
            "Requirement already satisfied: h5py in /usr/local/lib/python3.10/dist-packages (from keras->keras-tuner) (3.12.1)\n",
            "Requirement already satisfied: optree in /usr/local/lib/python3.10/dist-packages (from keras->keras-tuner) (0.13.1)\n",
            "Requirement already satisfied: ml-dtypes in /usr/local/lib/python3.10/dist-packages (from keras->keras-tuner) (0.4.1)\n",
            "Requirement already satisfied: charset-normalizer<4,>=2 in /usr/local/lib/python3.10/dist-packages (from requests->keras-tuner) (3.4.0)\n",
            "Requirement already satisfied: idna<4,>=2.5 in /usr/local/lib/python3.10/dist-packages (from requests->keras-tuner) (3.10)\n",
            "Requirement already satisfied: urllib3<3,>=1.21.1 in /usr/local/lib/python3.10/dist-packages (from requests->keras-tuner) (2.2.3)\n",
            "Requirement already satisfied: certifi>=2017.4.17 in /usr/local/lib/python3.10/dist-packages (from requests->keras-tuner) (2024.8.30)\n",
            "Requirement already satisfied: typing-extensions>=4.5.0 in /usr/local/lib/python3.10/dist-packages (from optree->keras->keras-tuner) (4.12.2)\n",
            "Requirement already satisfied: markdown-it-py>=2.2.0 in /usr/local/lib/python3.10/dist-packages (from rich->keras->keras-tuner) (3.0.0)\n",
            "Requirement already satisfied: pygments<3.0.0,>=2.13.0 in /usr/local/lib/python3.10/dist-packages (from rich->keras->keras-tuner) (2.18.0)\n",
            "Requirement already satisfied: mdurl~=0.1 in /usr/local/lib/python3.10/dist-packages (from markdown-it-py>=2.2.0->rich->keras->keras-tuner) (0.1.2)\n"
          ]
        }
      ]
    },
    {
      "cell_type": "markdown",
      "source": [
        "## Regularization"
      ],
      "metadata": {
        "id": "yIER2SKMr5j5"
      }
    },
    {
      "cell_type": "code",
      "source": [
        "from tensorflow.keras.regularizers import l2\n",
        "\n",
        "model = Sequential()\n",
        "model.add(keras.Input(shape=(14,)))\n",
        "model.add(Dense(128, input_dim=X_train.shape[1], activation='relu'))\n",
        "model.add(Dropout(0.5))\n",
        "model.add(Dense(64, activation='relu', kernel_regularizer=l2(0.01)))\n",
        "model.add(Dropout(0.5))\n",
        "model.add(Dense(32, activation='relu'))\n",
        "model.add(Dropout(0.5))\n",
        "model.add(Dense(len(np.unique(y_train)), activation='softmax'))\n",
        "model.compile(optimizer=Adam(learning_rate=0.001), loss='sparse_categorical_crossentropy', metrics=['accuracy'])"
      ],
      "metadata": {
        "id": "RFRV8zhaXb_o",
        "colab": {
          "base_uri": "https://localhost:8080/"
        },
        "outputId": "9a8d7d94-8d32-416d-85f7-f1312b45452b"
      },
      "execution_count": null,
      "outputs": [
        {
          "output_type": "stream",
          "name": "stderr",
          "text": [
            "/usr/local/lib/python3.10/dist-packages/keras/src/layers/core/dense.py:87: UserWarning: Do not pass an `input_shape`/`input_dim` argument to a layer. When using Sequential models, prefer using an `Input(shape)` object as the first layer in the model instead.\n",
            "  super().__init__(activity_regularizer=activity_regularizer, **kwargs)\n"
          ]
        }
      ]
    },
    {
      "cell_type": "markdown",
      "source": [
        "## Hyperparameter Tunning"
      ],
      "metadata": {
        "id": "9haNsjvUr-lO"
      }
    },
    {
      "cell_type": "code",
      "source": [
        "\n",
        "def build_model(hp):\n",
        "    model = models.Sequential()\n",
        "    model.add(keras.Input(shape=(14,)))\n",
        "    model.add(layers.Dense(hp.Int('units', min_value=64, max_value=256, step=64),\n",
        "                           activation='relu', input_shape=(X_train.shape[1],)))\n",
        "    model.add(layers.BatchNormalization())\n",
        "    model.add(layers.Dropout(hp.Float('dropout', min_value=0.3, max_value=0.5, step=0.1)))\n",
        "    model.add(layers.Dense(4, activation='softmax'))\n",
        "    model.compile(optimizer=Adam(learning_rate=hp.Choice('learning_rate', [0.01, 0.001, 0.005, 0.0001, 0.0005])),\n",
        "                  loss='sparse_categorical_crossentropy', metrics=['accuracy'])\n",
        "    return model"
      ],
      "metadata": {
        "id": "wUJLwx10GdJw"
      },
      "execution_count": null,
      "outputs": []
    },
    {
      "cell_type": "code",
      "source": [
        "def build_model(hp):\n",
        "    model = models.Sequential()\n",
        "    model.add(keras.Input(shape=(14,)))\n",
        "    model.add(layers.Dense(hp.Int('units_1', min_value=128, max_value=512, step=64), activation='relu'))\n",
        "    model.add(layers.BatchNormalization())\n",
        "    model.add(layers.Dropout(hp.Float('dropout_1', min_value=0.2, max_value=0.4, step=0.1)))\n",
        "    model.add(layers.Dense(hp.Int('units_2', min_value=64, max_value=256, step=64), activation='relu'))\n",
        "    model.add(layers.BatchNormalization())\n",
        "    model.add(layers.Dropout(hp.Float('dropout_2', min_value=0.2, max_value=0.3, step=0.1)))\n",
        "    model.add(layers.Dense(hp.Int('units_3', min_value=32, max_value=128, step=32), activation='relu'))\n",
        "    model.add(layers.BatchNormalization())\n",
        "    model.add(layers.Dropout(hp.Float('dropout_3', min_value=0.2, max_value=0.3, step=0.1)))\n",
        "    model.add(layers.Dense(4, activation='softmax'))\n",
        "    model.compile(optimizer=Adam(learning_rate=hp.Choice('learning_rate', [0.01, 0.001, 0.0005])),loss='sparse_categorical_crossentropy',metrics=['accuracy'])\n",
        "\n",
        "    return model"
      ],
      "metadata": {
        "id": "9qcC__J9ogYL"
      },
      "execution_count": null,
      "outputs": []
    },
    {
      "cell_type": "code",
      "source": [
        "import shutil\n",
        "shutil.rmtree('./untitled_project')"
      ],
      "metadata": {
        "id": "hAqj1pSxIKOP"
      },
      "execution_count": null,
      "outputs": []
    },
    {
      "cell_type": "code",
      "source": [
        "tuner = RandomSearch(build_model, objective='val_accuracy', max_trials=5)\n",
        "tuner.search(X_train, y_train, epochs=50, validation_data=(X_test, y_test))"
      ],
      "metadata": {
        "id": "v_023rc3GvPy",
        "colab": {
          "base_uri": "https://localhost:8080/"
        },
        "outputId": "9f6d9fb6-72a3-45b6-f39b-87fe2b66ffbb"
      },
      "execution_count": null,
      "outputs": [
        {
          "output_type": "stream",
          "name": "stdout",
          "text": [
            "Trial 5 Complete [00h 00m 16s]\n",
            "val_accuracy: 0.6372548937797546\n",
            "\n",
            "Best val_accuracy So Far: 0.6372548937797546\n",
            "Total elapsed time: 00h 01m 35s\n"
          ]
        }
      ]
    },
    {
      "cell_type": "code",
      "source": [
        "best_hps=tuner.get_best_hyperparameters(num_trials=1)[0]"
      ],
      "metadata": {
        "id": "7LQaIsTEIize"
      },
      "execution_count": null,
      "outputs": []
    },
    {
      "cell_type": "code",
      "source": [
        "units_1 = best_hps.get('units_1')\n",
        "units_2 = best_hps.get('units_2')\n",
        "units_3 = best_hps.get('units_3')\n",
        "dropout_rate_1 = best_hps.get('dropout_1')\n",
        "dropout_rate_2 = best_hps.get('dropout_2')\n",
        "dropout_rate_3 = best_hps.get('dropout_3')\n",
        "learning_rate = best_hps.get('learning_rate')"
      ],
      "metadata": {
        "id": "-fn6lWCnvy-J"
      },
      "execution_count": null,
      "outputs": []
    },
    {
      "cell_type": "code",
      "source": [
        "print(f\"Optimal Units 1: {best_hps.get('units_1')}\")\n",
        "print(f\"Optimal Units 2: {best_hps.get('units_2')}\")\n",
        "print(f\"Optimal Units 3: {best_hps.get('units_3')}\")\n",
        "print(f\"Optimal dropout Rate 1: {best_hps.get('dropout_1')}\")\n",
        "print(f\"Optimal dropout Rate 2: {best_hps.get('dropout_2')}\")\n",
        "print(f\"Optimal dropout Rate 3: {best_hps.get('dropout_3')}\")\n",
        "print(f\"Optimal Learning Rate: {best_hps.get('learning_rate')}\")"
      ],
      "metadata": {
        "id": "zwF8CnSFsjAs",
        "colab": {
          "base_uri": "https://localhost:8080/"
        },
        "outputId": "e1cd9fcc-d3f5-4601-fa95-882564e1ccba"
      },
      "execution_count": null,
      "outputs": [
        {
          "output_type": "stream",
          "name": "stdout",
          "text": [
            "Optimal Units 1: 320\n",
            "Optimal Units 2: 64\n",
            "Optimal Units 3: 128\n",
            "Optimal dropout Rate 1: 0.2\n",
            "Optimal dropout Rate 2: 0.2\n",
            "Optimal dropout Rate 3: 0.2\n",
            "Optimal Learning Rate: 0.0005\n"
          ]
        }
      ]
    },
    {
      "cell_type": "markdown",
      "source": [
        "## Define EarlyStopping"
      ],
      "metadata": {
        "id": "L3c4ANMpvcuI"
      }
    },
    {
      "cell_type": "code",
      "source": [
        "from tensorflow.keras.callbacks import EarlyStopping\n",
        "early_stopping = EarlyStopping(\n",
        "    monitor='val_loss',\n",
        "    min_delta=0.001,\n",
        "    patience=5,\n",
        "    restore_best_weights=True,\n",
        ")"
      ],
      "metadata": {
        "id": "Dmp7jcGtI6QW"
      },
      "execution_count": null,
      "outputs": []
    },
    {
      "cell_type": "markdown",
      "source": [
        "## Define the model with Best Parameter Tunning"
      ],
      "metadata": {
        "id": "GYETVHiiviIT"
      }
    },
    {
      "cell_type": "code",
      "source": [
        "final_model = models.Sequential()\n",
        "final_model.add(keras.Input(shape=(14,)))\n",
        "final_model.add(layers.Dense(units_1, activation='relu'))\n",
        "final_model.add(layers.BatchNormalization())\n",
        "final_model.add(layers.Dropout(dropout_rate_1))\n",
        "final_model.add(layers.Dense(units_2, activation='relu'))\n",
        "final_model.add(layers.BatchNormalization())\n",
        "final_model.add(layers.Dropout(dropout_rate_2))\n",
        "final_model.add(layers.Dense(units_3, activation='relu'))\n",
        "final_model.add(layers.BatchNormalization())\n",
        "final_model.add(layers.Dropout(dropout_rate_3))\n",
        "final_model.add(layers.Dense(4, activation='softmax'))\n",
        "\n",
        "final_model.compile(optimizer=Adam(learning_rate=learning_rate),\n",
        "                    loss='sparse_categorical_crossentropy',\n",
        "                    metrics=['accuracy'])"
      ],
      "metadata": {
        "id": "DrK6bm_iql7S"
      },
      "execution_count": null,
      "outputs": []
    },
    {
      "cell_type": "markdown",
      "source": [
        "## Train the model"
      ],
      "metadata": {
        "id": "YoEXLb0HsPGt"
      }
    },
    {
      "cell_type": "code",
      "source": [
        "history = final_model.fit(\n",
        "    X_train, y_train,\n",
        "    validation_data=(X_test, y_test),\n",
        "    epochs=500,\n",
        "    batch_size=32,\n",
        "    callbacks=[early_stopping]\n",
        ")\n"
      ],
      "metadata": {
        "id": "KDPfyesCKelQ",
        "colab": {
          "base_uri": "https://localhost:8080/"
        },
        "outputId": "b10556db-ff1b-4231-ea00-bb9a102c5b3f"
      },
      "execution_count": null,
      "outputs": [
        {
          "output_type": "stream",
          "name": "stdout",
          "text": [
            "Epoch 1/500\n",
            "\u001b[1m20/20\u001b[0m \u001b[32m━━━━━━━━━━━━━━━━━━━━\u001b[0m\u001b[37m\u001b[0m \u001b[1m4s\u001b[0m 51ms/step - accuracy: 0.3363 - loss: 1.7617 - val_accuracy: 0.5490 - val_loss: 1.1083\n",
            "Epoch 2/500\n",
            "\u001b[1m20/20\u001b[0m \u001b[32m━━━━━━━━━━━━━━━━━━━━\u001b[0m\u001b[37m\u001b[0m \u001b[1m1s\u001b[0m 14ms/step - accuracy: 0.5328 - loss: 1.4594 - val_accuracy: 0.5294 - val_loss: 1.0692\n",
            "Epoch 3/500\n",
            "\u001b[1m20/20\u001b[0m \u001b[32m━━━━━━━━━━━━━━━━━━━━\u001b[0m\u001b[37m\u001b[0m \u001b[1m1s\u001b[0m 14ms/step - accuracy: 0.5260 - loss: 1.2698 - val_accuracy: 0.5343 - val_loss: 1.0444\n",
            "Epoch 4/500\n",
            "\u001b[1m20/20\u001b[0m \u001b[32m━━━━━━━━━━━━━━━━━━━━\u001b[0m\u001b[37m\u001b[0m \u001b[1m1s\u001b[0m 19ms/step - accuracy: 0.5321 - loss: 1.2588 - val_accuracy: 0.5294 - val_loss: 1.0320\n",
            "Epoch 5/500\n",
            "\u001b[1m20/20\u001b[0m \u001b[32m━━━━━━━━━━━━━━━━━━━━\u001b[0m\u001b[37m\u001b[0m \u001b[1m1s\u001b[0m 18ms/step - accuracy: 0.5355 - loss: 1.2557 - val_accuracy: 0.5294 - val_loss: 1.0172\n",
            "Epoch 6/500\n",
            "\u001b[1m20/20\u001b[0m \u001b[32m━━━━━━━━━━━━━━━━━━━━\u001b[0m\u001b[37m\u001b[0m \u001b[1m1s\u001b[0m 20ms/step - accuracy: 0.5390 - loss: 1.2139 - val_accuracy: 0.5490 - val_loss: 1.0137\n",
            "Epoch 7/500\n",
            "\u001b[1m20/20\u001b[0m \u001b[32m━━━━━━━━━━━━━━━━━━━━\u001b[0m\u001b[37m\u001b[0m \u001b[1m1s\u001b[0m 17ms/step - accuracy: 0.5595 - loss: 1.1950 - val_accuracy: 0.5343 - val_loss: 1.0111\n",
            "Epoch 8/500\n",
            "\u001b[1m20/20\u001b[0m \u001b[32m━━━━━━━━━━━━━━━━━━━━\u001b[0m\u001b[37m\u001b[0m \u001b[1m1s\u001b[0m 13ms/step - accuracy: 0.6237 - loss: 1.0648 - val_accuracy: 0.5245 - val_loss: 0.9973\n",
            "Epoch 9/500\n",
            "\u001b[1m20/20\u001b[0m \u001b[32m━━━━━━━━━━━━━━━━━━━━\u001b[0m\u001b[37m\u001b[0m \u001b[1m1s\u001b[0m 9ms/step - accuracy: 0.6091 - loss: 1.0501 - val_accuracy: 0.5343 - val_loss: 0.9803\n",
            "Epoch 10/500\n",
            "\u001b[1m20/20\u001b[0m \u001b[32m━━━━━━━━━━━━━━━━━━━━\u001b[0m\u001b[37m\u001b[0m \u001b[1m0s\u001b[0m 13ms/step - accuracy: 0.6021 - loss: 1.0346 - val_accuracy: 0.5735 - val_loss: 0.9537\n",
            "Epoch 11/500\n",
            "\u001b[1m20/20\u001b[0m \u001b[32m━━━━━━━━━━━━━━━━━━━━\u001b[0m\u001b[37m\u001b[0m \u001b[1m0s\u001b[0m 10ms/step - accuracy: 0.5959 - loss: 1.0329 - val_accuracy: 0.5735 - val_loss: 0.9385\n",
            "Epoch 12/500\n",
            "\u001b[1m20/20\u001b[0m \u001b[32m━━━━━━━━━━━━━━━━━━━━\u001b[0m\u001b[37m\u001b[0m \u001b[1m0s\u001b[0m 10ms/step - accuracy: 0.6312 - loss: 0.9789 - val_accuracy: 0.5686 - val_loss: 0.9194\n",
            "Epoch 13/500\n",
            "\u001b[1m20/20\u001b[0m \u001b[32m━━━━━━━━━━━━━━━━━━━━\u001b[0m\u001b[37m\u001b[0m \u001b[1m0s\u001b[0m 11ms/step - accuracy: 0.5636 - loss: 1.1157 - val_accuracy: 0.5637 - val_loss: 0.9089\n",
            "Epoch 14/500\n",
            "\u001b[1m20/20\u001b[0m \u001b[32m━━━━━━━━━━━━━━━━━━━━\u001b[0m\u001b[37m\u001b[0m \u001b[1m0s\u001b[0m 11ms/step - accuracy: 0.6042 - loss: 1.0583 - val_accuracy: 0.6029 - val_loss: 0.9000\n",
            "Epoch 15/500\n",
            "\u001b[1m20/20\u001b[0m \u001b[32m━━━━━━━━━━━━━━━━━━━━\u001b[0m\u001b[37m\u001b[0m \u001b[1m0s\u001b[0m 15ms/step - accuracy: 0.6081 - loss: 1.0515 - val_accuracy: 0.6225 - val_loss: 0.8826\n",
            "Epoch 16/500\n",
            "\u001b[1m20/20\u001b[0m \u001b[32m━━━━━━━━━━━━━━━━━━━━\u001b[0m\u001b[37m\u001b[0m \u001b[1m1s\u001b[0m 15ms/step - accuracy: 0.6126 - loss: 0.9365 - val_accuracy: 0.6127 - val_loss: 0.8816\n",
            "Epoch 17/500\n",
            "\u001b[1m20/20\u001b[0m \u001b[32m━━━━━━━━━━━━━━━━━━━━\u001b[0m\u001b[37m\u001b[0m \u001b[1m1s\u001b[0m 9ms/step - accuracy: 0.6305 - loss: 0.9940 - val_accuracy: 0.6029 - val_loss: 0.8739\n",
            "Epoch 18/500\n",
            "\u001b[1m20/20\u001b[0m \u001b[32m━━━━━━━━━━━━━━━━━━━━\u001b[0m\u001b[37m\u001b[0m \u001b[1m0s\u001b[0m 7ms/step - accuracy: 0.5773 - loss: 1.0559 - val_accuracy: 0.5980 - val_loss: 0.8876\n",
            "Epoch 19/500\n",
            "\u001b[1m20/20\u001b[0m \u001b[32m━━━━━━━━━━━━━━━━━━━━\u001b[0m\u001b[37m\u001b[0m \u001b[1m0s\u001b[0m 10ms/step - accuracy: 0.6094 - loss: 1.0424 - val_accuracy: 0.5882 - val_loss: 0.8605\n",
            "Epoch 20/500\n",
            "\u001b[1m20/20\u001b[0m \u001b[32m━━━━━━━━━━━━━━━━━━━━\u001b[0m\u001b[37m\u001b[0m \u001b[1m0s\u001b[0m 7ms/step - accuracy: 0.6178 - loss: 0.9204 - val_accuracy: 0.6078 - val_loss: 0.8560\n",
            "Epoch 21/500\n",
            "\u001b[1m20/20\u001b[0m \u001b[32m━━━━━━━━━━━━━━━━━━━━\u001b[0m\u001b[37m\u001b[0m \u001b[1m0s\u001b[0m 11ms/step - accuracy: 0.6015 - loss: 0.9985 - val_accuracy: 0.6127 - val_loss: 0.8373\n",
            "Epoch 22/500\n",
            "\u001b[1m20/20\u001b[0m \u001b[32m━━━━━━━━━━━━━━━━━━━━\u001b[0m\u001b[37m\u001b[0m \u001b[1m0s\u001b[0m 17ms/step - accuracy: 0.5890 - loss: 0.9443 - val_accuracy: 0.6078 - val_loss: 0.8243\n",
            "Epoch 23/500\n",
            "\u001b[1m20/20\u001b[0m \u001b[32m━━━━━━━━━━━━━━━━━━━━\u001b[0m\u001b[37m\u001b[0m \u001b[1m0s\u001b[0m 12ms/step - accuracy: 0.6006 - loss: 0.9761 - val_accuracy: 0.5980 - val_loss: 0.8202\n",
            "Epoch 24/500\n",
            "\u001b[1m20/20\u001b[0m \u001b[32m━━━━━━━━━━━━━━━━━━━━\u001b[0m\u001b[37m\u001b[0m \u001b[1m0s\u001b[0m 12ms/step - accuracy: 0.6014 - loss: 1.0117 - val_accuracy: 0.5882 - val_loss: 0.8291\n",
            "Epoch 25/500\n",
            "\u001b[1m20/20\u001b[0m \u001b[32m━━━━━━━━━━━━━━━━━━━━\u001b[0m\u001b[37m\u001b[0m \u001b[1m0s\u001b[0m 13ms/step - accuracy: 0.5995 - loss: 0.9366 - val_accuracy: 0.5980 - val_loss: 0.8587\n",
            "Epoch 26/500\n",
            "\u001b[1m20/20\u001b[0m \u001b[32m━━━━━━━━━━━━━━━━━━━━\u001b[0m\u001b[37m\u001b[0m \u001b[1m0s\u001b[0m 8ms/step - accuracy: 0.6258 - loss: 0.9652 - val_accuracy: 0.6225 - val_loss: 0.8395\n",
            "Epoch 27/500\n",
            "\u001b[1m20/20\u001b[0m \u001b[32m━━━━━━━━━━━━━━━━━━━━\u001b[0m\u001b[37m\u001b[0m \u001b[1m0s\u001b[0m 10ms/step - accuracy: 0.5856 - loss: 0.9680 - val_accuracy: 0.5980 - val_loss: 0.8392\n",
            "Epoch 28/500\n",
            "\u001b[1m20/20\u001b[0m \u001b[32m━━━━━━━━━━━━━━━━━━━━\u001b[0m\u001b[37m\u001b[0m \u001b[1m0s\u001b[0m 8ms/step - accuracy: 0.5748 - loss: 1.0070 - val_accuracy: 0.5980 - val_loss: 0.8368\n"
          ]
        }
      ]
    },
    {
      "cell_type": "markdown",
      "source": [
        "## Evaluate the Model"
      ],
      "metadata": {
        "id": "2hCyR6P2sU-_"
      }
    },
    {
      "cell_type": "code",
      "source": [
        "loss, accuracy = final_model.evaluate(X_test, y_test)\n",
        "print(f'Test Loss: {loss:.4f}')\n",
        "print(f\"Test Accuracy: {accuracy:.2f}\")"
      ],
      "metadata": {
        "id": "64hyaOSgL3jV",
        "colab": {
          "base_uri": "https://localhost:8080/"
        },
        "outputId": "2a1c5b08-8eb4-4695-c1c8-a7044dffa249"
      },
      "execution_count": null,
      "outputs": [
        {
          "output_type": "stream",
          "name": "stdout",
          "text": [
            "\u001b[1m7/7\u001b[0m \u001b[32m━━━━━━━━━━━━━━━━━━━━\u001b[0m\u001b[37m\u001b[0m \u001b[1m0s\u001b[0m 5ms/step - accuracy: 0.6204 - loss: 0.7802 \n",
            "Test Loss: 0.8202\n",
            "Test Accuracy: 0.60\n"
          ]
        }
      ]
    },
    {
      "cell_type": "code",
      "source": [
        "loss, accuracy = final_model.evaluate(X_train, y_train)\n",
        "print(f'Train Loss: {loss:.4f}')\n",
        "print(f\"Train Accuracy: {accuracy:.2f}\")"
      ],
      "metadata": {
        "id": "s5sCCmPgOCYm",
        "colab": {
          "base_uri": "https://localhost:8080/"
        },
        "outputId": "b78ae158-f1a9-40b1-e34d-c89beeb582f6"
      },
      "execution_count": null,
      "outputs": [
        {
          "output_type": "stream",
          "name": "stdout",
          "text": [
            "\u001b[1m20/20\u001b[0m \u001b[32m━━━━━━━━━━━━━━━━━━━━\u001b[0m\u001b[37m\u001b[0m \u001b[1m0s\u001b[0m 3ms/step - accuracy: 0.6545 - loss: 0.7829\n",
            "Train Loss: 0.8029\n",
            "Train Accuracy: 0.65\n"
          ]
        }
      ]
    }
  ]
}